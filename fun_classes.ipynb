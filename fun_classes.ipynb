{
 "cells": [
  {
   "cell_type": "code",
   "execution_count": 1,
   "id": "733580f5-abae-453c-96a7-d2c941c6eee3",
   "metadata": {},
   "outputs": [
    {
     "name": "stdout",
     "output_type": "stream",
     "text": [
      "25\n"
     ]
    }
   ],
   "source": [
    "# Functions in Python\n",
    "def number_squared (number):\n",
    "    print (number ** 2)\n",
    "\n",
    "number_squared (5)\n"
   ]
  },
  {
   "cell_type": "code",
   "execution_count": null,
   "id": "e266de8a-f409-4748-805a-f8d7e606ece9",
   "metadata": {},
   "outputs": [],
   "source": []
  },
  {
   "cell_type": "code",
   "execution_count": 5,
   "id": "bc5e99d7-389e-471c-af48-2e4fc2711d03",
   "metadata": {},
   "outputs": [
    {
     "name": "stdout",
     "output_type": "stream",
     "text": [
      "125\n"
     ]
    }
   ],
   "source": [
    "# Functions in Python\n",
    "def number_squared_cust (number, power):\n",
    "    print (number ** power)\n",
    "number_squared_cust (5,3)"
   ]
  },
  {
   "cell_type": "code",
   "execution_count": null,
   "id": "9b68b787-5a4a-4f4e-a1df-1ccd7e68dfcd",
   "metadata": {},
   "outputs": [],
   "source": []
  },
  {
   "cell_type": "code",
   "execution_count": 1,
   "id": "6930c983-ae1a-42f1-88fa-4b667e8f4bf1",
   "metadata": {},
   "outputs": [
    {
     "name": "stdout",
     "output_type": "stream",
     "text": [
      "Start\n",
      "Hi there!\n",
      "Welcome aboard\n",
      "Finish\n"
     ]
    }
   ],
   "source": [
    "# Lesson 1 by Mosh Hamedani ... functions in Python\n",
    "def greet_user(): # creating a function that passes greet_user to certain arguments\n",
    "    print (\"Hi there!\")\n",
    "    print (\"Welcome aboard\")\n",
    "\n",
    "print (\"Start\")\n",
    "greet_user ()\n",
    "print (\"Finish\")\n"
   ]
  },
  {
   "cell_type": "code",
   "execution_count": 22,
   "id": "a95144c8-6af6-43f0-8175-1418caa03038",
   "metadata": {},
   "outputs": [
    {
     "name": "stdout",
     "output_type": "stream",
     "text": [
      "Start\n",
      "Hi Mika Benson!\n",
      "Welcome aboard\n",
      "Hi Joy Mwende!\n",
      "Welcome aboard\n",
      "Finish\n"
     ]
    }
   ],
   "source": [
    "# Parameters... are placeholders for recieving information to the function\n",
    "def greet_user(name):\n",
    "    print (f'Hi {name}!')\n",
    "    print ('Welcome aboard')\n",
    "\n",
    "print (\"Start\")\n",
    "greet_user (\"Mika Benson\")\n",
    "greet_user (\"Joy Mwende\")\n",
    "print (\"Finish\")"
   ]
  },
  {
   "cell_type": "code",
   "execution_count": 24,
   "id": "88e89553-9c04-4ce3-930c-32911b32e166",
   "metadata": {},
   "outputs": [
    {
     "name": "stdout",
     "output_type": "stream",
     "text": [
      "Start\n",
      "Hi Mika Benson!\n",
      "Welcome aboard\n",
      "Finish\n"
     ]
    }
   ],
   "source": [
    "def greet_user (first_name, last_name):\n",
    "    print (f'Hi {first_name} {last_name}!')\n",
    "    print ('Welcome aboard')\n",
    "\n",
    "print (\"Start\")\n",
    "greet_user (\"Mika\",  \"Benson\")\n",
    "print (\"Finish\")\n"
   ]
  },
  {
   "cell_type": "code",
   "execution_count": null,
   "id": "61f799a6-823c-46ba-9b54-850383898956",
   "metadata": {},
   "outputs": [],
   "source": []
  },
  {
   "cell_type": "code",
   "execution_count": 28,
   "id": "9de748ed-c40d-4e12-ba41-4068838604fd",
   "metadata": {},
   "outputs": [
    {
     "name": "stdout",
     "output_type": "stream",
     "text": [
      "Start\n",
      "Hi Mika Benson!\n",
      "Welcome aboard\n",
      "Finish\n"
     ]
    }
   ],
   "source": [
    "# Keyword arguments.. method argument passed to a function by explicitly naming each parameter and assigning it a value\n",
    "def greet_user (first_name, last_name):\n",
    "    print (f'Hi {first_name} {last_name}!')\n",
    "    print ('Welcome aboard')\n",
    "\n",
    "print (\"Start\")\n",
    "greet_user (last_name = \"Benson\", first_name =\"Mika\")\n",
    "print (\"Finish\")\n"
   ]
  },
  {
   "cell_type": "code",
   "execution_count": null,
   "id": "7dc33713-5581-47ea-8d1c-f7540da58d8e",
   "metadata": {},
   "outputs": [],
   "source": []
  },
  {
   "cell_type": "code",
   "execution_count": 31,
   "id": "4103f71b-a27e-4904-9681-ca27829d0104",
   "metadata": {},
   "outputs": [
    {
     "name": "stdout",
     "output_type": "stream",
     "text": [
      "car Info:2020 Toyota Camry in grey\n"
     ]
    }
   ],
   "source": [
    "class Car:\n",
    "    def __init__ (self, make, model, year, color):\n",
    "        self.make = make\n",
    "        self.model = model\n",
    "        self.year = year\n",
    "        self.color = color\n",
    "\n",
    "    def display_info (self):\n",
    "        print (f\"car Info:{self.year} {self.make} {self.model} in {self.color}\")\n",
    "\n",
    "# creating the instance of a car using the keyword arguments..\n",
    "my_car = Car (make = \"Toyota\", model = \"Camry\", year = 2020, color = \"grey\")\n",
    "my_car.display_info ()\n",
    "\n",
    "\n",
    "\n"
   ]
  },
  {
   "cell_type": "code",
   "execution_count": null,
   "id": "5071f1e6-c7c8-41b7-b3a3-25b490b7ad70",
   "metadata": {},
   "outputs": [],
   "source": []
  },
  {
   "cell_type": "code",
   "execution_count": 2,
   "id": "cdd7ebd3-05d0-4e1e-a472-dac2669351a6",
   "metadata": {},
   "outputs": [
    {
     "name": "stdout",
     "output_type": "stream",
     "text": [
      "9\n",
      "25\n"
     ]
    }
   ],
   "source": [
    "# Return statement\n",
    "def square (number):\n",
    "    return number * number\n",
    "\n",
    "print (square (3))\n",
    "print (square (5))"
   ]
  },
  {
   "cell_type": "code",
   "execution_count": null,
   "id": "870294b0-e558-4e8d-bec0-11954dcd7e5e",
   "metadata": {},
   "outputs": [],
   "source": []
  },
  {
   "cell_type": "code",
   "execution_count": 3,
   "id": "a9dc4505-6f98-41d5-b52c-dd8ea46b69d0",
   "metadata": {},
   "outputs": [
    {
     "name": "stdin",
     "output_type": "stream",
     "text": [
      "Age: 27\n"
     ]
    },
    {
     "name": "stdout",
     "output_type": "stream",
     "text": [
      "27\n"
     ]
    }
   ],
   "source": [
    "# Exceptions..how to handle errors in Python\n",
    "age = int (input ('Age:'))\n",
    "print (age)"
   ]
  },
  {
   "cell_type": "code",
   "execution_count": null,
   "id": "ef9a11e0-dc44-41f4-b1b1-3551f11b54b1",
   "metadata": {},
   "outputs": [],
   "source": []
  },
  {
   "cell_type": "code",
   "execution_count": 6,
   "id": "ed43ddbb-b88f-4501-b499-bc915dc32f46",
   "metadata": {},
   "outputs": [
    {
     "name": "stdin",
     "output_type": "stream",
     "text": [
      "age: twenty seven\n"
     ]
    },
    {
     "name": "stdout",
     "output_type": "stream",
     "text": [
      "Invalid value\n"
     ]
    }
   ],
   "source": [
    "# To handle the ValueError use the try-except method\n",
    "try:\n",
    "    age = int (input ('age:'))\n",
    "    print (age)\n",
    "\n",
    "except ValueError:\n",
    "    print ('Invalid value')"
   ]
  },
  {
   "cell_type": "code",
   "execution_count": 7,
   "id": "f7c96f1f-e220-4307-b814-91311a448018",
   "metadata": {},
   "outputs": [
    {
     "name": "stdout",
     "output_type": "stream",
     "text": [
      "Error: division by zero\n",
      "This block always runs\n"
     ]
    }
   ],
   "source": [
    "# To handle the ZeroDivisionError\n",
    "try:\n",
    "    # Code that might raise an exception\n",
    "    result = 10 / 0\n",
    "except ZeroDivisionError as e:\n",
    "    # Code that runs if a ZeroDivisionError occurs\n",
    "    print(f\"Error: {e}\")\n",
    "finally:\n",
    "    # Code that runs no matter what\n",
    "    print(\"This block always runs\")"
   ]
  },
  {
   "cell_type": "code",
   "execution_count": null,
   "id": "b1e6b2d4-7e91-424c-8fb6-7ff7fd4bb16f",
   "metadata": {},
   "outputs": [],
   "source": []
  },
  {
   "cell_type": "code",
   "execution_count": 10,
   "id": "71a75637-ba80-4d60-ad56-d8265df5898e",
   "metadata": {},
   "outputs": [
    {
     "name": "stdin",
     "output_type": "stream",
     "text": [
      "Age: 0\n"
     ]
    },
    {
     "name": "stdout",
     "output_type": "stream",
     "text": [
      "Age cannot be 0\n"
     ]
    }
   ],
   "source": [
    "try:\n",
    "    age = int (input ('Age:'))\n",
    "    income = 20000\n",
    "    risk = income / age\n",
    "    print (age)\n",
    "\n",
    "except ZeroDivisionError:\n",
    "    print ('Age cannot be 0')\n",
    "\n",
    "except ValueError:\n",
    "    print ('Invalid value')"
   ]
  },
  {
   "cell_type": "code",
   "execution_count": null,
   "id": "7b4b0cc2-cb31-43a1-a819-22521ac06516",
   "metadata": {},
   "outputs": [],
   "source": []
  },
  {
   "cell_type": "code",
   "execution_count": null,
   "id": "ba06272e-fddc-40f9-a8b6-f1b77b1595e0",
   "metadata": {},
   "outputs": [],
   "source": []
  },
  {
   "cell_type": "code",
   "execution_count": null,
   "id": "73af618b-3d03-499b-a966-c2d4a4601023",
   "metadata": {},
   "outputs": [],
   "source": []
  },
  {
   "cell_type": "code",
   "execution_count": 8,
   "id": "258d5e08-e10c-438e-a08e-c91b46dad485",
   "metadata": {},
   "outputs": [
    {
     "name": "stdout",
     "output_type": "stream",
     "text": [
      "30\n",
      "1\n",
      "2\n",
      "3\n",
      "4\n",
      "a\n",
      "b\n",
      "c\n",
      "d\n"
     ]
    }
   ],
   "source": [
    "# Functions in Python..\n",
    "These are block of reusable code that performs specific task, allows to break_down program into smaller making it easier to;\n",
    "understand, debug, maintain the code.\n",
    "# Arbitrary functions..\n",
    "# 1... Arbitrary positional arguments (*)\n",
    "def number_args (* number):\n",
    "    print (number [0] * number [1])\n",
    "\n",
    "number_args (5,6,1,2,8)\n",
    "\n",
    "def my_function (*args):\n",
    "    for arg in args:\n",
    "        print (arg)\n",
    "my_function (1,2,3,4)\n",
    "my_function ('a', 'b', 'c', 'd')"
   ]
  },
  {
   "cell_type": "code",
   "execution_count": 12,
   "id": "7b837304-2f4a-42b1-9427-994244e58d28",
   "metadata": {},
   "outputs": [
    {
     "name": "stdout",
     "output_type": "stream",
     "text": [
      "name : Mika\n",
      "age : 27\n",
      "nationality : Kenyan\n",
      "country : Kenya\n",
      "city : Nairobi\n",
      "work_place : Machakos\n"
     ]
    }
   ],
   "source": [
    "# 2... Arbitrary keyword arguments (**kwargs)\n",
    "def my_function (** kwargs):\n",
    "    for key, value in kwargs.items ():\n",
    "        print (key, ':', value)\n",
    "my_function (name = 'Mika', age = 27, nationality = 'Kenyan')\n",
    "my_function (country = 'Kenya', city = 'Nairobi', work_place = 'Machakos')"
   ]
  },
  {
   "cell_type": "code",
   "execution_count": 13,
   "id": "d7fde5c9-7a34-4ad8-a3af-87c9a1947094",
   "metadata": {},
   "outputs": [
    {
     "name": "stdout",
     "output_type": "stream",
     "text": [
      "12\n"
     ]
    }
   ],
   "source": [
    "# simple function program\n",
    "def add_numbers(x,y):\n",
    "    return x + y\n",
    "\n",
    "result = add_numbers (4,8)\n",
    "print (result)"
   ]
  },
  {
   "cell_type": "code",
   "execution_count": null,
   "id": "7c4d974e-3684-4b0b-9c61-61fc6038c2f4",
   "metadata": {},
   "outputs": [],
   "source": []
  },
  {
   "cell_type": "code",
   "execution_count": 15,
   "id": "7121f7c7-915f-4673-b08f-c331c38dbf88",
   "metadata": {},
   "outputs": [
    {
     "data": {
      "text/plain": [
       "str"
      ]
     },
     "execution_count": 15,
     "metadata": {},
     "output_type": "execute_result"
    }
   ],
   "source": [
    "# CONVERTING DATA TYPES... \n",
    "num_int = 4\n",
    "type (num_int)\n",
    "\n",
    "num_str = '6'\n",
    "type (num_str)"
   ]
  },
  {
   "cell_type": "code",
   "execution_count": 16,
   "id": "243301ab-75c0-4342-b18b-0b0edb41b088",
   "metadata": {},
   "outputs": [
    {
     "name": "stdout",
     "output_type": "stream",
     "text": [
      "7.5\n"
     ]
    }
   ],
   "source": [
    "# Methods used in converting data types include:\n",
    "#1 ... implicit conversion/ type coercion\n",
    "x = 5\n",
    "y = 2.5\n",
    "z = x + y\n",
    "print (z)"
   ]
  },
  {
   "cell_type": "code",
   "execution_count": 20,
   "id": "6659ddde-c87d-4e66-88bd-7125d41f93d8",
   "metadata": {},
   "outputs": [
    {
     "name": "stdout",
     "output_type": "stream",
     "text": [
      "10\n",
      "3.142\n",
      "100\n"
     ]
    }
   ],
   "source": [
    "#2... explicit conversion/ type casting\n",
    "# converting string to int\n",
    "x = '10'\n",
    "y = int (x)\n",
    "print (y)\n",
    "\n",
    "# converting string to float\n",
    "z = float ('3.142')\n",
    "print (z)\n",
    "\n",
    "# converting int to string\n",
    "w = str(100)\n",
    "print (w)\n"
   ]
  },
  {
   "cell_type": "code",
   "execution_count": 25,
   "id": "f402decf-f87b-4ea0-9778-32aff6f99057",
   "metadata": {},
   "outputs": [
    {
     "name": "stdout",
     "output_type": "stream",
     "text": [
      "['H', 'e', 'l', 'l', 'o']\n",
      "(1, 2, 3)\n"
     ]
    }
   ],
   "source": [
    "#3... type - specific coversion methods\n",
    "# converting the string to list of characters\n",
    "my_string = \"Hello\"\n",
    "my_list = list(my_string)\n",
    "print(my_list)\n",
    "\n",
    "# converting list to tuple\n",
    "my_list = [1,2,3]\n",
    "my_tuple = tuple(my_list)\n",
    "print (my_tuple)"
   ]
  },
  {
   "cell_type": "code",
   "execution_count": 26,
   "id": "3f101805-d78d-4f0c-b2fd-c4a69fb02858",
   "metadata": {},
   "outputs": [
    {
     "name": "stdout",
     "output_type": "stream",
     "text": [
      "42\n"
     ]
    }
   ],
   "source": [
    "#4 ... custom conversion functions: performs more complex conversion between data types especially when dealing \n",
    "# with_user defined objects..\n",
    "\n",
    "class my_class:\n",
    "    def __init__ (self,x):\n",
    "        self.x = x\n",
    "\n",
    "def convert_to_string (obj):\n",
    "    return str (obj.x)\n",
    "\n",
    "obj = my_class (42)\n",
    "string_value = convert_to_string (obj)\n",
    "print (string_value)\n"
   ]
  },
  {
   "cell_type": "code",
   "execution_count": null,
   "id": "f8a36558-449a-4dd6-a51b-fc4ddede9695",
   "metadata": {},
   "outputs": [],
   "source": []
  },
  {
   "cell_type": "code",
   "execution_count": null,
   "id": "dc36b305-db82-44b6-a80c-9f2432212bab",
   "metadata": {},
   "outputs": [],
   "source": [
    "# classes ..template from which objects are created \n",
    "# These classes encapsulate data for the object and methods to manipulate that data"
   ]
  },
  {
   "cell_type": "code",
   "execution_count": 2,
   "id": "477bd4d2-31c4-4e4a-ac84-544a560de556",
   "metadata": {},
   "outputs": [
    {
     "name": "stdout",
     "output_type": "stream",
     "text": [
      "draw\n"
     ]
    }
   ],
   "source": [
    "class Point:\n",
    "    def move (self):\n",
    "        print ('move')\n",
    "\n",
    "    def draw (self):\n",
    "        print ('draw')\n",
    "\n",
    "# create an object with the instance\n",
    "Point1 = Point()\n",
    "Point1.draw ()\n"
   ]
  },
  {
   "cell_type": "code",
   "execution_count": 3,
   "id": "59ed4269-eb60-4bda-af8a-e7fbb9eaadc9",
   "metadata": {},
   "outputs": [
    {
     "name": "stdout",
     "output_type": "stream",
     "text": [
      "10\n",
      "draw\n"
     ]
    }
   ],
   "source": [
    "class Point:\n",
    "    def move (self):\n",
    "        print ('move')\n",
    "\n",
    "    def draw (self):\n",
    "        print ('draw')\n",
    "\n",
    "\n",
    "point1 = Point()\n",
    "point1.x = 10\n",
    "point1.y = 20\n",
    "print (point1.x)\n",
    "Point1.draw ()\n"
   ]
  },
  {
   "cell_type": "code",
   "execution_count": null,
   "id": "9a12d1d5-f2dd-45e7-b8d0-ee8794e14fd3",
   "metadata": {},
   "outputs": [],
   "source": []
  },
  {
   "cell_type": "code",
   "execution_count": 5,
   "id": "4255537f-d64a-4f67-bb49-1a80308fc083",
   "metadata": {},
   "outputs": [
    {
     "ename": "AttributeError",
     "evalue": "'Animal' object has no attribute 'display_info'",
     "output_type": "error",
     "traceback": [
      "\u001b[1;31m---------------------------------------------------------------------------\u001b[0m",
      "\u001b[1;31mAttributeError\u001b[0m                            Traceback (most recent call last)",
      "Cell \u001b[1;32mIn[5], line 16\u001b[0m\n\u001b[0;32m     13\u001b[0m cat \u001b[38;5;241m=\u001b[39m Animal (\u001b[38;5;124m\"\u001b[39m\u001b[38;5;124mWhiskers\u001b[39m\u001b[38;5;124m\"\u001b[39m, \u001b[38;5;124m\"\u001b[39m\u001b[38;5;124mcat\u001b[39m\u001b[38;5;124m\"\u001b[39m)\n\u001b[0;32m     15\u001b[0m \u001b[38;5;66;03m# .. to call the methods on the objects..\u001b[39;00m\n\u001b[1;32m---> 16\u001b[0m dog\u001b[38;5;241m.\u001b[39mdisplay_info ()\n\u001b[0;32m     17\u001b[0m cat\u001b[38;5;241m.\u001b[39mdisplay_info ()\n",
      "\u001b[1;31mAttributeError\u001b[0m: 'Animal' object has no attribute 'display_info'"
     ]
    }
   ],
   "source": [
    "class Animal:\n",
    "    def __init__ (self, name, species): # constructor method to initialize the objects attributes\n",
    "        self.name = name\n",
    "        self.species = species\n",
    "\n",
    "# methods which displays the animals information\n",
    "def diplay_info (self):\n",
    "    print (f\"Name: {self.name}, Species: {self.species}\")\n",
    "\n",
    "\n",
    "# Instantiation of the classes.. involves creating instances of the class\n",
    "dog = Animal (\"Buddy\", \"Dog\")\n",
    "cat = Animal (\"Whiskers\", \"cat\")\n",
    "\n",
    "# .. to call the methods on the objects..\n",
    "dog.display_info ()\n",
    "cat.display_info ()\n",
    "\n"
   ]
  },
  {
   "cell_type": "code",
   "execution_count": null,
   "id": "71297e80-389e-4b8d-81ad-d49ceb3688b8",
   "metadata": {},
   "outputs": [],
   "source": []
  },
  {
   "cell_type": "code",
   "execution_count": null,
   "id": "078393ea-fef4-4da7-a986-17482e4c5d4e",
   "metadata": {},
   "outputs": [],
   "source": []
  },
  {
   "cell_type": "code",
   "execution_count": null,
   "id": "09f9e9ed-fc9a-4cfd-b645-1250cad7d66d",
   "metadata": {},
   "outputs": [],
   "source": []
  },
  {
   "cell_type": "code",
   "execution_count": null,
   "id": "04709d55-4784-4bc9-8c46-5a43fcb4ef92",
   "metadata": {},
   "outputs": [],
   "source": []
  },
  {
   "cell_type": "code",
   "execution_count": null,
   "id": "98bec28e-da54-4d8e-ac7a-294d9e3ddfe8",
   "metadata": {},
   "outputs": [],
   "source": []
  }
 ],
 "metadata": {
  "kernelspec": {
   "display_name": "Python 3 (ipykernel)",
   "language": "python",
   "name": "python3"
  },
  "language_info": {
   "codemirror_mode": {
    "name": "ipython",
    "version": 3
   },
   "file_extension": ".py",
   "mimetype": "text/x-python",
   "name": "python",
   "nbconvert_exporter": "python",
   "pygments_lexer": "ipython3",
   "version": "3.11.7"
  }
 },
 "nbformat": 4,
 "nbformat_minor": 5
}
